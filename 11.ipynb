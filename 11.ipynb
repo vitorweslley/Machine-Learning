{
 "cells": [
  {
   "cell_type": "code",
   "execution_count": 2,
   "metadata": {},
   "outputs": [
    {
     "name": "stdout",
     "output_type": "stream",
     "text": [
      "Acurácia da árvore de decisão simples: 0.9444\n",
      "Acurácia do modelo AdaBoost: 0.9167\n"
     ]
    },
    {
     "name": "stderr",
     "output_type": "stream",
     "text": [
      "c:\\Users\\Ely The Dev\\Desktop\\Meu projetos de estudos\\Trabalho de Machine learning primera unidade\\.venv\\Lib\\site-packages\\sklearn\\ensemble\\_weight_boosting.py:527: FutureWarning: The SAMME.R algorithm (the default) is deprecated and will be removed in 1.6. Use the SAMME algorithm to circumvent this warning.\n",
      "  warnings.warn(\n"
     ]
    }
   ],
   "source": [
    "import numpy as np\n",
    "import pandas as pd\n",
    "from sklearn.datasets import load_wine\n",
    "from sklearn.tree import DecisionTreeClassifier\n",
    "from sklearn.ensemble import AdaBoostClassifier\n",
    "from sklearn.model_selection import train_test_split\n",
    "from sklearn.metrics import accuracy_score\n",
    "\n",
    "# Carregar o conjunto de dados Wine\n",
    "wine = load_wine()\n",
    "X = wine.data\n",
    "y = wine.target\n",
    "\n",
    "# Dividindo o conjunto de dados em treino e teste\n",
    "X_train, X_test, y_train, y_test = train_test_split(X, y, test_size=0.2, random_state=42)\n",
    "\n",
    "# --------------------------\n",
    "# Modelo de Árvore de Decisão Simples\n",
    "# --------------------------\n",
    "tree_model = DecisionTreeClassifier(random_state=42)\n",
    "tree_model.fit(X_train, y_train)\n",
    "\n",
    "# Previsões e avaliação da árvore de decisão simples\n",
    "y_pred_tree = tree_model.predict(X_test)\n",
    "tree_accuracy = accuracy_score(y_test, y_pred_tree)\n",
    "print(f\"Acurácia da árvore de decisão simples: {tree_accuracy:.4f}\")\n",
    "\n",
    "# --------------------------\n",
    "# Modelo AdaBoost\n",
    "# --------------------------\n",
    "# Usamos uma árvore de decisão com profundidade máxima 1 como estimador base\n",
    "adaboost_model = AdaBoostClassifier(n_estimators=50, random_state=42)\n",
    "adaboost_model.fit(X_train, y_train)\n",
    "\n",
    "# Previsões e avaliação do modelo AdaBoost\n",
    "y_pred_adaboost = adaboost_model.predict(X_test)\n",
    "adaboost_accuracy = accuracy_score(y_test, y_pred_adaboost)\n",
    "print(f\"Acurácia do modelo AdaBoost: {adaboost_accuracy:.4f}\")\n"
   ]
  }
 ],
 "metadata": {
  "kernelspec": {
   "display_name": ".venv",
   "language": "python",
   "name": "python3"
  },
  "language_info": {
   "codemirror_mode": {
    "name": "ipython",
    "version": 3
   },
   "file_extension": ".py",
   "mimetype": "text/x-python",
   "name": "python",
   "nbconvert_exporter": "python",
   "pygments_lexer": "ipython3",
   "version": "3.11.9"
  }
 },
 "nbformat": 4,
 "nbformat_minor": 2
}
