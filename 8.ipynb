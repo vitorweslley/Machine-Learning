{
 "cells": [
  {
   "cell_type": "code",
   "execution_count": 6,
   "metadata": {},
   "outputs": [
    {
     "name": "stdout",
     "output_type": "stream",
     "text": [
      "Iniciando o treinamento...\n",
      "32 operators have been imported by TPOT.\n",
      "Pipeline encountered that has previously been evaluated during the optimization process. Using the score from the previous evaluation.\n",
      "                                                                            \n",
      "Generation 1 - Current Pareto front scores:\n",
      "                                                                            \n",
      "-1\t0.9583333333333334\tKNeighborsClassifier(input_matrix, KNeighborsClassifier__n_neighbors=3, KNeighborsClassifier__p=1, KNeighborsClassifier__weights=distance)\n",
      "_pre_test decorator: _random_mutation_operator: num_test=0 Unsupported set of arguments: The combination of penalty='l2' and loss='hinge' are not supported when dual=False, Parameters: penalty='l2', loss='hinge', dual=False.\n",
      "                                                                            \n",
      "Generation 2 - Current Pareto front scores:\n",
      "                                                                            \n",
      "-1\t0.9583333333333334\tKNeighborsClassifier(input_matrix, KNeighborsClassifier__n_neighbors=3, KNeighborsClassifier__p=1, KNeighborsClassifier__weights=distance)\n",
      "                                                                            \n",
      "Generation 3 - Current Pareto front scores:\n",
      "                                                                            \n",
      "-1\t0.9583333333333334\tKNeighborsClassifier(input_matrix, KNeighborsClassifier__n_neighbors=3, KNeighborsClassifier__p=1, KNeighborsClassifier__weights=distance)\n",
      "                                                                            \n",
      "TPOT - Acurácia da Floresta Aleatória otimizada: 1.0000\n",
      "\n",
      "O modelo otimizado foi salvo como 'best_random_forest_pipeline.py'.\n"
     ]
    }
   ],
   "source": [
    "import numpy as np\n",
    "import pandas as pd\n",
    "from sklearn.model_selection import train_test_split\n",
    "from sklearn.datasets import load_iris\n",
    "from sklearn.metrics import accuracy_score\n",
    "from tpot import TPOTClassifier\n",
    "\n",
    "# Carregando o conjunto de dados Iris\n",
    "iris = load_iris()\n",
    "X = iris.data\n",
    "y = iris.target\n",
    "\n",
    "# Dividindo o conjunto de dados em treino e teste\n",
    "X_train, X_test, y_train, y_test = train_test_split(X, y, test_size=0.2, random_state=42)\n",
    "\n",
    "# ------------------------\n",
    "# AutoML com TPOT - Floresta Aleatória\n",
    "# ------------------------\n",
    "\n",
    "# Inicializando o classificador TPOT com valores reduzidos\n",
    "tpot = TPOTClassifier(\n",
    "    generations=3,          # Número de gerações reduzido\n",
    "    population_size=10,     # Número de indivíduos (modelos) por geração reduzido\n",
    "    random_state=42,        # Semente para reprodutibilidade\n",
    "    verbosity=3,            # Aumentar a verbosidade para 3 (mais detalhes)\n",
    "    cv=5,                   # Validação cruzada de 5 folds para otimização\n",
    ")\n",
    "\n",
    "# Treinando o modelo com a otimização de hiperparâmetros\n",
    "print(\"Iniciando o treinamento...\")\n",
    "tpot.fit(X_train, y_train)\n",
    "\n",
    "# Fazendo previsões no conjunto de teste\n",
    "y_pred_tpot = tpot.predict(X_test)\n",
    "\n",
    "# Avaliando o desempenho do modelo otimizado\n",
    "tpot_accuracy = accuracy_score(y_test, y_pred_tpot)\n",
    "print(f\"\\nTPOT - Acurácia da Floresta Aleatória otimizada: {tpot_accuracy:.4f}\")\n",
    "\n",
    "# Exportando o pipeline otimizado\n",
    "tpot.export('best_random_forest_pipeline.py')\n",
    "\n",
    "print(\"\\nO modelo otimizado foi salvo como 'best_random_forest_pipeline.py'.\")\n"
   ]
  }
 ],
 "metadata": {
  "kernelspec": {
   "display_name": ".venv",
   "language": "python",
   "name": "python3"
  },
  "language_info": {
   "codemirror_mode": {
    "name": "ipython",
    "version": 3
   },
   "file_extension": ".py",
   "mimetype": "text/x-python",
   "name": "python",
   "nbconvert_exporter": "python",
   "pygments_lexer": "ipython3",
   "version": "3.11.9"
  }
 },
 "nbformat": 4,
 "nbformat_minor": 2
}
