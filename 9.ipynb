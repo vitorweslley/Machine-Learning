{
 "cells": [
  {
   "cell_type": "code",
   "execution_count": 2,
   "metadata": {},
   "outputs": [
    {
     "name": "stdout",
     "output_type": "stream",
     "text": [
      "Acurácia da única árvore de decisão: 1.0000\n",
      "Acurácia do modelo Bagging: 1.0000\n"
     ]
    }
   ],
   "source": [
    "import numpy as np\n",
    "from sklearn.datasets import load_iris\n",
    "from sklearn.tree import DecisionTreeClassifier\n",
    "from sklearn.model_selection import train_test_split\n",
    "from sklearn.metrics import accuracy_score\n",
    "\n",
    "# Função para implementar o Bagging do zero\n",
    "class BaggingClassifier:\n",
    "    def __init__(self, base_model, n_estimators=10):\n",
    "        self.base_model = base_model\n",
    "        self.n_estimators = n_estimators\n",
    "        self.models = []\n",
    "    \n",
    "    def fit(self, X, y):\n",
    "        # Treinando múltiplos modelos em diferentes subconjuntos de dados\n",
    "        n_samples = X.shape[0]\n",
    "        for _ in range(self.n_estimators):\n",
    "            # Amostragem com reposição (Bootstrap sampling)\n",
    "            indices = np.random.choice(n_samples, n_samples, replace=True)\n",
    "            X_bootstrap = X[indices]\n",
    "            y_bootstrap = y[indices]\n",
    "            \n",
    "            # Treinando uma árvore de decisão em cada subconjunto\n",
    "            model = self.base_model\n",
    "            model.fit(X_bootstrap, y_bootstrap)\n",
    "            self.models.append(model)\n",
    "    \n",
    "    def predict(self, X):\n",
    "        # Fazendo previsões usando votação por maioria (para classificação)\n",
    "        predictions = np.zeros((self.n_estimators, X.shape[0]), dtype=int)  # Garantir que o tipo é inteiro\n",
    "        for i, model in enumerate(self.models):\n",
    "            predictions[i] = model.predict(X).astype(int)  # Garantir que as previsões são inteiras\n",
    "        \n",
    "        # Votação por maioria\n",
    "        return np.array([np.bincount(pred).argmax() for pred in predictions.T])\n",
    "\n",
    "# Carregar conjunto de dados Iris\n",
    "iris = load_iris()\n",
    "X = iris.data\n",
    "y = iris.target\n",
    "\n",
    "# Dividir em conjunto de treino e teste\n",
    "X_train, X_test, y_train, y_test = train_test_split(X, y, test_size=0.2, random_state=42)\n",
    "\n",
    "# -----------------------\n",
    "# Treinando uma única árvore de decisão\n",
    "# -----------------------\n",
    "tree_model = DecisionTreeClassifier(random_state=42)\n",
    "tree_model.fit(X_train, y_train)\n",
    "\n",
    "# Previsões e avaliação da árvore única\n",
    "y_pred_tree = tree_model.predict(X_test)\n",
    "tree_accuracy = accuracy_score(y_test, y_pred_tree)\n",
    "print(f\"Acurácia da única árvore de decisão: {tree_accuracy:.4f}\")\n",
    "\n",
    "# -----------------------\n",
    "# Treinando o modelo Bagging\n",
    "# -----------------------\n",
    "bagging_model = BaggingClassifier(base_model=DecisionTreeClassifier(random_state=42), n_estimators=50)\n",
    "bagging_model.fit(X_train, y_train)\n",
    "\n",
    "# Previsões e avaliação do modelo Bagging\n",
    "y_pred_bagging = bagging_model.predict(X_test)\n",
    "bagging_accuracy = accuracy_score(y_test, y_pred_bagging)\n",
    "print(f\"Acurácia do modelo Bagging: {bagging_accuracy:.4f}\")\n"
   ]
  }
 ],
 "metadata": {
  "kernelspec": {
   "display_name": ".venv",
   "language": "python",
   "name": "python3"
  },
  "language_info": {
   "codemirror_mode": {
    "name": "ipython",
    "version": 3
   },
   "file_extension": ".py",
   "mimetype": "text/x-python",
   "name": "python",
   "nbconvert_exporter": "python",
   "pygments_lexer": "ipython3",
   "version": "3.11.9"
  }
 },
 "nbformat": 4,
 "nbformat_minor": 2
}
